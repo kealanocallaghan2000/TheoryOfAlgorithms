{
 "cells": [
  {
   "cell_type": "markdown",
   "id": "41ba729d-51fa-491e-b7d0-a1b90955874d",
   "metadata": {},
   "source": [
    "# The Countdown Numbers Game\n",
    "https://en.wikipedia.org/wiki/Countdown_(game_show)\n",
    "***"
   ]
  },
  {
   "cell_type": "markdown",
   "id": "04ad2ba9-a5da-4a31-b4e5-b980a47fe2ee",
   "metadata": {},
   "source": [
    "### What is the countdown numbers game?\n",
    "The countdown game is where contestants are challenged on their numeracy and word making skills. In the 'letters' version of the game,  the goal is to create the longest and most complex words out of a randomly selected mix of 9 consonants and 9 vowels. The numbers version of the game, the player must combine 6 randomly selected numbers to get as close as possible to a randomly generated total using just the four basic operators (addition, subtraction, multiplication and division). We will be just looking at the numbers version of the game."
   ]
  },
  {
   "cell_type": "markdown",
   "id": "cba0c866-0967-45d0-9cff-ef607d4da850",
   "metadata": {},
   "source": [
    "|  | Target |\n",
    "| --- | --- |\n",
    "|  | 114 |\n"
   ]
  },
  {
   "cell_type": "markdown",
   "id": "b29fc51e-504f-4efe-a3bd-f40b2eeee99e",
   "metadata": {},
   "source": [
    "|  | Numbers |\n",
    "| --- | --- |\n",
    "|  | 2 | \n",
    "|  | 8 | \n",
    "|  | 5 | \n",
    "|  | 3 | \n",
    "|  | 4 |\n",
    "|  | 1 |"
   ]
  },
  {
   "cell_type": "markdown",
   "id": "71e57ee4-e58e-497e-8dd1-40bcdc583bf5",
   "metadata": {},
   "source": [
    "|  | Calculations |\n",
    "| --- | --- |\n",
    "| <b>3</b> x <b>5</b> | 15 |\n",
    "| 15 x <b>2</b> | 30 |\n",
    "| 30 + <b>8</b> | 38 |\n",
    "| <b>4</b> - <b>1</b> | 3 |\n",
    "| 3 x 38 | 114 |\n",
    "|  | <b>114</b> |"
   ]
  },
  {
   "cell_type": "markdown",
   "id": "7ea71101-8ae1-4dbc-ab70-3ef2b30d3e35",
   "metadata": {},
   "source": [
    "Let’s quickly look at the rules of the Countdown numbers game:\n",
    "- Six numbers are chosen at random for the player to use\n",
    "- A three-digit target number is chosen at random\n",
    "- The player is then given 30 seconds to get as close to the target number as possible using only the operators + - / *\n",
    "- Not all numbers need to be used, and each number can only be used once\n",
    "- The number can never be negative\n",
    "\n",
    "***"
   ]
  },
  {
   "cell_type": "markdown",
   "id": "30aa172c-71c1-45fc-a28f-8d12ba8981be",
   "metadata": {},
   "source": [
    "## The Complexity of the Countdown Numbers Game"
   ]
  },
  {
   "cell_type": "markdown",
   "id": "4e967642-ed82-43ed-9a75-4ece94cc7525",
   "metadata": {},
   "source": [
    "In theory, the countdown numbers game is simple to get one's head around, but computationally, there are a few hurdles which have to be overcome in order for the game to be simulated efficiently. \n",
    "<br> <br>\n",
    "Because there is such a vast amount of possible combintions of numbers and operations to reach the target number, it can be a difficult task for a human, but it is generally quite a simple task for a computer. Using a brute force solution could work in certain situations, but it does not scale well. Simply adding another number or operator and the task at hand grows exponentially, quickly becoming to large of a task even on a high end computer. \n",
    "<br> <br>\n",
    "If we jumped into this problem without planning a clever approach, we would probably attempt to iterate through all expressions: . ((50 + 15) x 3 + (8 % 4)) , which would certainly be a valid approach but would be near impossible to code up.\n",
    "The reason for this is that there is a restriction that our brackets must match:\n",
    "- Brackets must be opened before being closed\n",
    "- By the end of the expression, all brackets must be closed\n",
    "- Brackets must contain a meaningful expression (i.e. we would want to bracket a single number)"
   ]
  },
  {
   "cell_type": "markdown",
   "id": "d4d12ef5-1fc2-4094-99a6-bae653ade63a",
   "metadata": {},
   "source": [
    "Even if we somehow managed to create this approach, the issue of knowing if the bracket added any value to the solution would remain. In most cases, the brackets would be redundant meaning that we have wasted resources trying to check the solution multiple times. The best alternative solution to this, is <b>Reverse Polish Notation</b>.\n",
    "\n",
    "***\n",
    "\n",
    "To put into perspective how monumental this task is. To go through every permutation of the countdown numbers game, you have to go through 11 symbols, meaning that the initial amount of permutations is\n",
    "\n",
    "|  | Permutations | = |\n",
    "| --- | --- | --- |\n",
    "|  | 11! x 54 | 2.155 billion |\n",
    "\n",
    "This already seems like a huge task, but there is one more problem. This only represents one board of numbers, when there are actually <b>13,243</b> different combinations of numbers. So the real number of permutations is <b>2.155 billion x 13,243</b>. WOW!"
   ]
  },
  {
   "cell_type": "markdown",
   "id": "2ceeaed5-75ad-4ed7-93c1-04a99476aeb7",
   "metadata": {},
   "source": [
    "### Reverse Polish Notation (RPN)"
   ]
  },
  {
   "cell_type": "markdown",
   "id": "ccc7b3ae-3849-4d8f-a996-76db139dc2dc",
   "metadata": {},
   "source": [
    "Reverse Polish notation (RPN) is a method for representing expressions in which the operator symbol is placed after the arguments being operated on. For example, the following RPN expression will produce the sum of 2 and 3: 2 3 +. The benefit of using RPN is that brackets are not required to represent the order of evaluation, which is perfect for computing problems. Another example is to represent <b>(3+4) x 5</b> as <b>3 4 + 5 x</b>. \n",
    "<br><Br>\n",
    "This means that the algorithm can be computed using a stack structure. "
   ]
  },
  {
   "cell_type": "markdown",
   "id": "37c32ec6-196a-4200-8583-fc1f95780f41",
   "metadata": {},
   "source": [
    "***"
   ]
  },
  {
   "cell_type": "markdown",
   "id": "b001688a-1b79-4eb5-9a14-05f98b4ed826",
   "metadata": {},
   "source": [
    "## Function to Solve Countdown Numbers Game"
   ]
  },
  {
   "cell_type": "code",
   "execution_count": 1,
   "id": "846dd3b9-e121-4672-a028-ea95ccc62231",
   "metadata": {},
   "outputs": [],
   "source": [
    "import random\n",
    "\n",
    "# Declaring the 4 possible operators\n",
    "add = lambda x,y: x+y\n",
    "sub = lambda x,y: x-y\n",
    "mul = lambda x,y: x*y\n",
    "div = lambda x,y: x/y if x % y == 0 else 0/0\n",
    "\n",
    "symbols = [ (add, '+'),\n",
    "               (sub, '-'),\n",
    "               (mul, '*'),\n",
    "               (div, '/')]"
   ]
  },
  {
   "cell_type": "code",
   "execution_count": 2,
   "id": "1f5988be-322d-4d70-bf7a-34f532b16a40",
   "metadata": {},
   "outputs": [],
   "source": [
    "# The Reverse Polish Notation expression.\n",
    "def check_rpn(heap):\n",
    "    try:\n",
    "        # The main initializers\n",
    "        k = 0\n",
    "        operation = add\n",
    "        \n",
    "        # Loop through rpn an item at a time\n",
    "        for i in heap:\n",
    "            # Check if it's a number\n",
    "            if type(i) is int:\n",
    "                k = operation(k, i)\n",
    "            else:\n",
    "                operation = i[0]\n",
    "        \n",
    "        # Returning the total\n",
    "        return k\n",
    "    except:\n",
    "        return 0"
   ]
  },
  {
   "cell_type": "code",
   "execution_count": 3,
   "id": "abb95dc6-0967-4774-bd20-f4debf9f4b4a",
   "metadata": {},
   "outputs": [],
   "source": [
    "def getHeap(heap):\n",
    "    reps = [ str(i) if type(i) is int else i[1] for i in heap ]\n",
    "    return ' '.join(reps)"
   ]
  },
  {
   "cell_type": "code",
   "execution_count": 4,
   "id": "a6be846b-5456-4257-bbcd-ab88f889bb46",
   "metadata": {},
   "outputs": [],
   "source": [
    "# Function to retrieve Large numbers\n",
    "def large_numbers():\n",
    "    return [25, 50, 75, 100][random.randint(0,2)]"
   ]
  },
  {
   "cell_type": "code",
   "execution_count": 5,
   "id": "73ea0326-1d82-42f0-814b-14e484da600e",
   "metadata": {},
   "outputs": [
    {
     "data": {
      "text/plain": [
       "<function __main__.large_numbers()>"
      ]
     },
     "execution_count": 5,
     "metadata": {},
     "output_type": "execute_result"
    }
   ],
   "source": [
    "large_numbers"
   ]
  },
  {
   "cell_type": "code",
   "execution_count": 6,
   "id": "d991397d-8656-4e23-be33-b8cc77765f60",
   "metadata": {},
   "outputs": [],
   "source": [
    "# Function to retrieve Small numbers\n",
    "def small_numbers():\n",
    "    return random.randint(1,10)"
   ]
  },
  {
   "cell_type": "code",
   "execution_count": 7,
   "id": "ced9d735-a366-4caa-936b-d3f7eb88014b",
   "metadata": {},
   "outputs": [
    {
     "data": {
      "text/plain": [
       "<function __main__.small_numbers()>"
      ]
     },
     "execution_count": 7,
     "metadata": {},
     "output_type": "execute_result"
    }
   ],
   "source": [
    "small_numbers"
   ]
  },
  {
   "cell_type": "code",
   "execution_count": 8,
   "id": "0a3405e5-bdc3-46f1-9f93-3b88ba7840cf",
   "metadata": {},
   "outputs": [],
   "source": [
    "# function to retrieve a target number\n",
    "def get_target():\n",
    "    return random.randint(100,1000)"
   ]
  },
  {
   "cell_type": "code",
   "execution_count": 9,
   "id": "e63fd527-9269-43b5-8cc3-2b93516067f4",
   "metadata": {},
   "outputs": [],
   "source": [
    "# function to retrieve playing digits\n",
    "def get_digits():\n",
    "    return [ large_numbers() ] + [ small_numbers() for i in range(5) ]"
   ]
  },
  {
   "cell_type": "code",
   "execution_count": 10,
   "id": "20b1be02-6746-4c8a-967d-ddc5bfc966a8",
   "metadata": {},
   "outputs": [],
   "source": [
    "# Solution function  for the countdown numbers game\n",
    "def solution(target, digits):\n",
    "    \n",
    "    # Give all 2-partitions of a list, where each sublist has one element.\n",
    "    def iterative(heap, numbers):\n",
    "        # Loop through partitions\n",
    "        for r in range(len(numbers)):\n",
    "            # Add to the stack\n",
    "            heap.append( numbers[r] )\n",
    "            extra = numbers[:r] + numbers[r+1:]\n",
    "\n",
    "            # Evaluating the RPN\n",
    "            if check_rpn(heap) == target:\n",
    "                print(getHeap(heap))\n",
    "            \n",
    "            # Add operator to stack elements\n",
    "            if len(extra) > 0:\n",
    "                for s in symbols:\n",
    "                    heap.append(s)\n",
    "                    heap = iterative(heap, extra)\n",
    "                    heap = heap[:-1]\n",
    "            \n",
    "            # Pop from stack\n",
    "            heap = heap[:-1]\n",
    "\n",
    "        return heap\n",
    "\n",
    "    iterative([], digits)"
   ]
  },
  {
   "cell_type": "code",
   "execution_count": 11,
   "id": "99779e35-707d-4d92-8fd7-296e2a61cdfe",
   "metadata": {},
   "outputs": [
    {
     "name": "stdout",
     "output_type": "stream",
     "text": [
      "The Target Number Is: 943\n",
      "Use the digits: [75, 1, 8, 8, 2, 8]\n",
      "Solutions:\n",
      "75 - 8 - 8 * 2 * 8 - 1\n",
      "75 - 8 - 8 * 8 * 2 - 1\n",
      "75 - 8 - 8 * 8 * 2 - 1\n",
      "75 - 8 - 8 * 2 * 8 - 1\n",
      "75 - 8 - 8 * 2 * 8 - 1\n",
      "75 - 8 - 8 * 8 * 2 - 1\n",
      "75 - 8 - 8 * 8 * 2 - 1\n",
      "75 - 8 - 8 * 2 * 8 - 1\n",
      "75 - 8 - 8 * 8 * 2 - 1\n",
      "75 - 8 - 8 * 2 * 8 - 1\n",
      "75 - 8 - 8 * 8 * 2 - 1\n",
      "75 - 8 - 8 * 2 * 8 - 1\n"
     ]
    }
   ],
   "source": [
    "targetNum = get_target()\n",
    "digits = get_digits()\n",
    "\n",
    "print(\"The Target Number Is: {0}\\nUse the digits: {1}\".format(targetNum, digits))\n",
    "print(\"Solutions:\")\n",
    "solution(targetNum, digits)"
   ]
  },
  {
   "cell_type": "markdown",
   "id": "07b02df9-fd88-4b6c-a799-57b3bef8dc4e",
   "metadata": {},
   "source": [
    "***"
   ]
  },
  {
   "cell_type": "markdown",
   "id": "0763dd37-7592-423b-b4a3-236626195f77",
   "metadata": {},
   "source": [
    "## The functional aspects of this code"
   ]
  },
  {
   "cell_type": "markdown",
   "id": "109c54a3-f345-4e81-a751-d7a7936ea24e",
   "metadata": {},
   "source": [
    "### What is functional programming?\n",
    "\n",
    "Functions are fundamental to almost all programming languages. Generally the purpose of functions is to create clean and maintainable code, where a lot of the complexity is abstracted away in nice keywords which can be called upon when needed.\n",
    "\n",
    "Functional programming is sometimes thought of as a counter approach to object oriented and procedural programming. This is true but can be misconstrued as they are often not mutually exclusive and a lot of systems tend to use a mixture of all three approaches.\n",
    "\n",
    "Functional programming usually offers many benefits which is used acros"
   ]
  },
  {
   "cell_type": "markdown",
   "id": "e9f1e296-9bc3-4e8e-a2be-610ff576cea4",
   "metadata": {},
   "source": [
    "### Functional aspects of this code"
   ]
  },
  {
   "cell_type": "markdown",
   "id": "0d211955-ab8c-45da-befc-cca940838ab1",
   "metadata": {},
   "source": [
    "- <b>Pure functions - </b> The best scenario in functional programming is the ability to create pure functions. This means creating functions whose result is based purely on the input parameters, and whose operation causes no side effects or  imbalances when brought together, that is, makes no external impact besides the return value. The reason this is so effective is that a pure function can be reduced to only the arguments and the return value. The code above uses this to its advantage as it contains many pure functions which always produce the same output with the same arguments and they do not change or modify the input variable, although there are some features which have to interact with the broader context.\n",
    "\n",
    "- <b>Immutibility - </b> Another functional aspect of this code is that the variables are not modified outside of the functions. Instead, the return value from calling the functions reflects the computation done. This helps avoid any side effects. \n",
    "\n",
    "- <b>First class functions -</b> First class functions are treated as a thing in themselves that can be ran by themselves and treated independantly. Functional programming takes advantage of language support when giving the ability to use functions as variables, arguments and return values to create robust code. We can see this in the <i>solution function</i> which returns <i> iterative([], digits)</i>.\n",
    "\n",
    "- <b>Dealing with collections -</b> Another beautiful feature of working with functional code is having the ability to work with massive collections with very little effort. As we seen above, we could apply our functionality to all items in a collection of enourmous size as is the ideology behind functional programming. \n",
    "\n",
    "- <b>Generators -</b> I also used generators in this project to retrieve the large and small numbers from the options of [25, 50, 75, 100] for large numbers and random numbers between 1 and 10 for the smaller numbers."
   ]
  },
  {
   "cell_type": "markdown",
   "id": "870250f0-aa18-4065-bf3b-52a0fc0e277c",
   "metadata": {},
   "source": [
    "***"
   ]
  },
  {
   "cell_type": "markdown",
   "id": "e6269535-6fd4-418f-9fed-377414d6c18e",
   "metadata": {},
   "source": [
    "### References"
   ]
  },
  {
   "cell_type": "markdown",
   "id": "87d25f34-6145-4081-8d2d-b83a8eff54f1",
   "metadata": {},
   "source": [
    "- <b>Ian Mcloughlin's Notebook - </b>https://colab.research.google.com/github/ianmcloughlin/jupyter-teaching-notebooks/blob/main/countdown_numbers.ipynb#scrollTo=Vt0aVjTp_RDX\n",
    "- <b>Functional Programming in Python - </b>https://www.geeksforgeeks.org/functional-programming-in-python/#:~:text=Functional%20programming%20is%20a%20programming,is%20%E2%80%9Chow%20to%20solve%E2%80%9C.\n",
    "- <b>What is functional programming? A practical guide - </b>https://www.infoworld.com/article/3613715/what-is-functional-programming-a-practical-guide.html\n",
    "- <b>Functional Programming in Python: When and How to Use It - </b>https://realpython.com/python-functional-programming/\n",
    "- <b>Python docs - </b>https://docs.python.org/3/howto/functional.html\n",
    "- <b>Brute Forcing The Countdown Numbers Game - Computerphile - </b>https://www.youtube.com/watch?v=cVMhkqPP2YI\n",
    "- <b>The (Final) countdown - </b>https://arxiv.org/abs/1502.05450\n",
    "- <b>The Computational Complexity of Finding Arithmetic Expressions With and Without Parentheses - </b>https://arxiv.org/abs/2110.14045"
   ]
  }
 ],
 "metadata": {
  "kernelspec": {
   "display_name": "Python 3 (ipykernel)",
   "language": "python",
   "name": "python3"
  },
  "language_info": {
   "codemirror_mode": {
    "name": "ipython",
    "version": 3
   },
   "file_extension": ".py",
   "mimetype": "text/x-python",
   "name": "python",
   "nbconvert_exporter": "python",
   "pygments_lexer": "ipython3",
   "version": "3.8.8"
  }
 },
 "nbformat": 4,
 "nbformat_minor": 5
}
