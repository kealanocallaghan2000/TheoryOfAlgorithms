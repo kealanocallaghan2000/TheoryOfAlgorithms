{
 "cells": [
  {
   "cell_type": "markdown",
   "id": "41ba729d-51fa-491e-b7d0-a1b90955874d",
   "metadata": {},
   "source": [
    "# The Countdown Numbers Game\n",
    "https://en.wikipedia.org/wiki/Countdown_(game_show)\n",
    "***"
   ]
  },
  {
   "cell_type": "markdown",
   "id": "04ad2ba9-a5da-4a31-b4e5-b980a47fe2ee",
   "metadata": {},
   "source": [
    "### What is the countdown numbers game?\n",
    "The countdown game is where contestants are challenged on their numeracy and word making skills. In the 'letters' version of the game,  the goal is to create the longest and most complex words out of a randomly selected mix of 9 consonants and 9 vowels. The numbers version of the game, the player must combine 6 randomly selected numbers to get as close as possible to a randomly generated total using just the four basic operators (addition, subtraction, multiplication and division). We will be just looking at the numbers version of the game."
   ]
  },
  {
   "cell_type": "markdown",
   "id": "cba0c866-0967-45d0-9cff-ef607d4da850",
   "metadata": {},
   "source": [
    "|  | Target |\n",
    "| --- | --- |\n",
    "|  | 114 |\n"
   ]
  },
  {
   "cell_type": "markdown",
   "id": "b29fc51e-504f-4efe-a3bd-f40b2eeee99e",
   "metadata": {},
   "source": [
    "|  | Numbers |\n",
    "| --- | --- |\n",
    "|  | 2 | \n",
    "|  | 8 | \n",
    "|  | 5 | \n",
    "|  | 3 | \n",
    "|  | 4 |\n",
    "|  | 1 |"
   ]
  },
  {
   "cell_type": "markdown",
   "id": "71e57ee4-e58e-497e-8dd1-40bcdc583bf5",
   "metadata": {},
   "source": [
    "|  | Calculations |\n",
    "| --- | --- |\n",
    "| <b>3</b> x <b>5</b> | 15 |\n",
    "| 15 x <b>2</b> | 30 |\n",
    "| 30 + <b>8</b> | 38 |\n",
    "| <b>4</b> - <b>1</b> | 3 |\n",
    "| 3 x 38 | 114 |\n",
    "|  | <b>114</b> |"
   ]
  },
  {
   "cell_type": "code",
   "execution_count": null,
   "id": "219ca1db-7003-4f0e-bbb1-50b4f79ae9ba",
   "metadata": {},
   "outputs": [],
   "source": []
  },
  {
   "cell_type": "code",
   "execution_count": null,
   "id": "785a3e1e-acec-4cba-bbed-2aaaf4897382",
   "metadata": {},
   "outputs": [],
   "source": []
  },
  {
   "cell_type": "code",
   "execution_count": null,
   "id": "9f7b0431-a5ab-4ecc-97cf-86f5f3c76052",
   "metadata": {},
   "outputs": [],
   "source": []
  }
 ],
 "metadata": {
  "kernelspec": {
   "display_name": "Python 3 (ipykernel)",
   "language": "python",
   "name": "python3"
  },
  "language_info": {
   "codemirror_mode": {
    "name": "ipython",
    "version": 3
   },
   "file_extension": ".py",
   "mimetype": "text/x-python",
   "name": "python",
   "nbconvert_exporter": "python",
   "pygments_lexer": "ipython3",
   "version": "3.8.8"
  }
 },
 "nbformat": 4,
 "nbformat_minor": 5
}
