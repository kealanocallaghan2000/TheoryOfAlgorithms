{
 "cells": [
  {
   "cell_type": "markdown",
   "id": "41ba729d-51fa-491e-b7d0-a1b90955874d",
   "metadata": {},
   "source": [
    "# The Countdown Numbers Game\n",
    "https://en.wikipedia.org/wiki/Countdown_(game_show)\n",
    "***"
   ]
  },
  {
   "cell_type": "markdown",
   "id": "04ad2ba9-a5da-4a31-b4e5-b980a47fe2ee",
   "metadata": {},
   "source": [
    "### What is the countdown numbers game?\n",
    "The countdown game is where contestants are challenged on their numeracy and word making skills. In the 'letters' version of the game,  the goal is to create the longest and most complex words out of a randomly selected mix of 9 consonants and 9 vowels. The numbers version of the game, the player must combine 6 randomly selected numbers to get as close as possible to a randomly generated total using just the four basic operators (addition, subtraction, multiplication and division). We will be just looking at the"
   ]
  },
  {
   "cell_type": "code",
   "execution_count": null,
   "id": "5f70cf05-213f-4b3d-a033-cf53857bedfe",
   "metadata": {},
   "outputs": [],
   "source": []
  },
  {
   "cell_type": "code",
   "execution_count": null,
   "id": "a0f67460-6ecb-4e5f-b174-d216f0663abf",
   "metadata": {},
   "outputs": [],
   "source": []
  },
  {
   "cell_type": "code",
   "execution_count": null,
   "id": "f506d62f-ecf6-4ff4-b128-6a401fe2995a",
   "metadata": {},
   "outputs": [],
   "source": []
  },
  {
   "cell_type": "code",
   "execution_count": null,
   "id": "219ca1db-7003-4f0e-bbb1-50b4f79ae9ba",
   "metadata": {},
   "outputs": [],
   "source": []
  },
  {
   "cell_type": "code",
   "execution_count": null,
   "id": "785a3e1e-acec-4cba-bbed-2aaaf4897382",
   "metadata": {},
   "outputs": [],
   "source": []
  },
  {
   "cell_type": "code",
   "execution_count": null,
   "id": "9f7b0431-a5ab-4ecc-97cf-86f5f3c76052",
   "metadata": {},
   "outputs": [],
   "source": []
  }
 ],
 "metadata": {
  "kernelspec": {
   "display_name": "Python 3 (ipykernel)",
   "language": "python",
   "name": "python3"
  },
  "language_info": {
   "codemirror_mode": {
    "name": "ipython",
    "version": 3
   },
   "file_extension": ".py",
   "mimetype": "text/x-python",
   "name": "python",
   "nbconvert_exporter": "python",
   "pygments_lexer": "ipython3",
   "version": "3.8.8"
  }
 },
 "nbformat": 4,
 "nbformat_minor": 5
}
