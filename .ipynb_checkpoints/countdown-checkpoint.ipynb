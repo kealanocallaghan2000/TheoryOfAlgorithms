{
 "cells": [
  {
   "cell_type": "markdown",
   "id": "41ba729d-51fa-491e-b7d0-a1b90955874d",
   "metadata": {},
   "source": [
    "# The Countdown Numbers Game\n",
    "https://en.wikipedia.org/wiki/Countdown_(game_show)\n",
    "***"
   ]
  },
  {
   "cell_type": "markdown",
   "id": "04ad2ba9-a5da-4a31-b4e5-b980a47fe2ee",
   "metadata": {},
   "source": [
    "### What is the countdown numbers game?\n",
    "The countdown game is where contestants are challenged on their numeracy and word making skills. In the 'letters' version of the game,  the goal is to create the longest and most complex words out of a randomly selected mix of 9 consonants and 9 vowels. The numbers version of the game, the player must combine 6 randomly selected numbers to get as close as possible to a randomly generated total using just the four basic operators (addition, subtraction, multiplication and division). We will be just looking at the numbers version of the game."
   ]
  },
  {
   "cell_type": "markdown",
   "id": "cba0c866-0967-45d0-9cff-ef607d4da850",
   "metadata": {},
   "source": [
    "|  | Target |\n",
    "| --- | --- |\n",
    "|  | 114 |\n"
   ]
  },
  {
   "cell_type": "markdown",
   "id": "b29fc51e-504f-4efe-a3bd-f40b2eeee99e",
   "metadata": {},
   "source": [
    "|  | Numbers |\n",
    "| --- | --- |\n",
    "|  | 2 | \n",
    "|  | 8 | \n",
    "|  | 5 | \n",
    "|  | 3 | \n",
    "|  | 4 |\n",
    "|  | 1 |"
   ]
  },
  {
   "cell_type": "markdown",
   "id": "71e57ee4-e58e-497e-8dd1-40bcdc583bf5",
   "metadata": {},
   "source": [
    "|  | Calculations |\n",
    "| --- | --- |\n",
    "| <b>3</b> x <b>5</b> | 15 |\n",
    "| 15 x <b>2</b> | 30 |\n",
    "| 30 + <b>8</b> | 38 |\n",
    "| <b>4</b> - <b>1</b> | 3 |\n",
    "| 3 x 38 | 114 |\n",
    "|  | <b>114</b> |"
   ]
  },
  {
   "cell_type": "markdown",
   "id": "7ea71101-8ae1-4dbc-ab70-3ef2b30d3e35",
   "metadata": {},
   "source": [
    "Let’s quickly look at the rules of the Countdown numbers game:\n",
    "- Six numbers are chosen at random for the player to use\n",
    "- A three-digit target number is chosen at random\n",
    "- The player is then given 30 seconds to get as close to the target number as possible using only the operators + - / *\n",
    "- Not all numbers need to be used, and each number can only be used once\n",
    "- The number can never be negative\n",
    "\n",
    "***"
   ]
  },
  {
   "cell_type": "markdown",
   "id": "30aa172c-71c1-45fc-a28f-8d12ba8981be",
   "metadata": {},
   "source": [
    "## The Complexity of the Countdown Numbers Game"
   ]
  },
  {
   "cell_type": "markdown",
   "id": "4e967642-ed82-43ed-9a75-4ece94cc7525",
   "metadata": {},
   "source": [
    "In theory, the countdown numbers game is simple to get one's head around, but computationally, there are a few hurdles which have to be overcome in order for the game to be simulated efficiently. \n",
    "<br> <br>\n",
    "Because there is such a vast amount of possible combintions of numbers and operations to reach the target number, it can be a difficult task for a human, but it is generally quite a simple task for a computer. Using a brute force solution could work in certain situations, but it does not scale well. Simply adding another number or operator and the task at hand grows exponentially, quickly becoming to large of a task even on a high end computer. \n",
    "<br> <br>\n",
    "If we jumped into this problem without planning a clever approach, we would probably attempt to iterate through all expressions: . ((50 + 15) x 3 + (8 % 4)) , which would certainly be a valid approach but would be near impossible to code up.\n",
    "The reason for this is that there is a restriction that our brackets must match:\n",
    "- Brackets must be opened before being closed\n",
    "- By the end of the expression, all brackets must be closed\n",
    "- Brackets must contain a meaningful expression (i.e. we would want to bracket a single number)"
   ]
  },
  {
   "cell_type": "markdown",
   "id": "d4d12ef5-1fc2-4094-99a6-bae653ade63a",
   "metadata": {},
   "source": [
    "Even if we somehow managed to create this approach, the issue of knowing if the bracket added any value to the solution would remain. In most cases, the brackets would be redundant meaning that we have wasted resources trying to check the solution multiple times. The best alternative solution to this, is <b>Reverse Polish Notation</b>."
   ]
  },
  {
   "cell_type": "markdown",
   "id": "2ceeaed5-75ad-4ed7-93c1-04a99476aeb7",
   "metadata": {},
   "source": [
    "### Reverse Polish Notation (RPN)"
   ]
  },
  {
   "cell_type": "markdown",
   "id": "ccc7b3ae-3849-4d8f-a996-76db139dc2dc",
   "metadata": {},
   "source": [
    "Reverse Polish notation (RPN) is a method for representing expressions in which the operator symbol is placed after the arguments being operated on. For example, the following RPN expression will produce the sum of 2 and 3: 2 3 +. The benefit of using RPN is that brackets are not required to represent the order of evaluation, which is perfect for computing problems. Another example is to represent <b>(3+4) x 5</b> as <b>3 4 + 5 x</b>. \n",
    "<br><Br>\n",
    "This means that the algorithm can be computed using a stack structure."
   ]
  }
 ],
 "metadata": {
  "kernelspec": {
   "display_name": "Python 3 (ipykernel)",
   "language": "python",
   "name": "python3"
  },
  "language_info": {
   "codemirror_mode": {
    "name": "ipython",
    "version": 3
   },
   "file_extension": ".py",
   "mimetype": "text/x-python",
   "name": "python",
   "nbconvert_exporter": "python",
   "pygments_lexer": "ipython3",
   "version": "3.8.8"
  }
 },
 "nbformat": 4,
 "nbformat_minor": 5
}
