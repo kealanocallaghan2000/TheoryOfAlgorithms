{
 "cells": [
  {
   "cell_type": "markdown",
   "id": "b62d396b-26d3-4de9-bca4-7d561477e3b6",
   "metadata": {},
   "source": [
    "# The Post Correspondance problem\n",
    "https://www.geeksforgeeks.org/post-correspondence-problem/\n",
    "***"
   ]
  },
  {
   "cell_type": "markdown",
   "id": "48d52c16-67d4-4d63-9c8a-c79fde53ff00",
   "metadata": {},
   "source": [
    "#### What is the Post Correspondance problem?\n",
    "The post correspondance problem (PCP) is one of the three basic undecidable decision problems that was introduced by Emil Post in 1946. Because it is simpler than the halting problem and the Entscheidungsproblem it is often used in proofs of undecidability. "
   ]
  },
  {
   "cell_type": "markdown",
   "id": "2bc03ee5-b5e0-4900-990c-97a277865590",
   "metadata": {},
   "source": [
    "#### What does it solve?\n",
    "In this problem we have N number of Dominos (tiles) with a string on the top and bottom of each tile. The aim is to find the concatenation of these words in some sequence such that both lists yield same result, which allows it to prove undecidability.\n",
    "***"
   ]
  },
  {
   "cell_type": "markdown",
   "id": "f9f5c724-6e2e-49a3-a8a2-86e5166973b6",
   "metadata": {},
   "source": [
    "##### Lets take 2 lists to understand the problem, A and B"
   ]
  },
  {
   "cell_type": "markdown",
   "id": "f549d664-e260-4241-aa47-3362ea0a69c6",
   "metadata": {},
   "source": [
    "A=[xx, yy, xyy] \n",
    "  B=[xxy, yx, y] "
   ]
  },
  {
   "cell_type": "markdown",
   "id": "59893385-1128-4935-aae2-1b5ecc17a229",
   "metadata": {},
   "source": [
    "Remember, our aim for this is to find a concatonation sequence that both lists can share so that they yield the same result - so for this example, the solution is <b>1,2,1,3</b>.\n",
    "\n",
    "The first list will yield <b>xxyyxxxyy</b> and second list will yield same string <b>xxyyxxxyy</b>.\n",
    "***"
   ]
  },
  {
   "cell_type": "markdown",
   "id": "c11395d3-4b87-4c6f-99fa-23e5f1cbf0a4",
   "metadata": {},
   "source": [
    "##### We can respresent the post corresepondance problem in these following ways:"
   ]
  },
  {
   "cell_type": "markdown",
   "id": "3ab24348-b2de-4fae-9d37-5e337f1192df",
   "metadata": {},
   "source": [
    "#### As Domino's \n",
    "\n",
    "<img src=\"https://media.geeksforgeeks.org/wp-content/uploads/20200525173708/dominos.jpg\" left=700 width=500 height=500 />"
   ]
  },
  {
   "cell_type": "markdown",
   "id": "c7aa3698-fb9d-49e8-b72f-c4ba51b0a2e8",
   "metadata": {},
   "source": [
    "#### As a table\n",
    "|  | Numerator | Denominator |\n",
    "| --- | --- | --- |\n",
    "| 1 | B | CA |\n",
    "| 2 | A | AB |\n",
    "| 3 | CA | A |\n",
    "| 4 | ABC | C |\n",
    "\n",
    "***"
   ]
  },
  {
   "cell_type": "markdown",
   "id": "4ed2abd6-8ff2-4c57-b698-6f72dff0ee48",
   "metadata": {},
   "source": [
    "In the example above, we concluded that the solution was <b>1,2,1,3</b>. This means that it had a solution, but to fully understand the undecidability of the PCP, lets look at an example with no known solution."
   ]
  },
  {
   "cell_type": "markdown",
   "id": "d6a24c26-4573-42f4-914f-8bb69c480152",
   "metadata": {},
   "source": [
    "Take the following table:\n",
    "\n",
    "|  | A | B |\n",
    "| --- | --- | --- |\n",
    "| 1 | baa | b |\n",
    "| 2 | b | abb |\n",
    "| 3 | a | bb |\n",
    "\n",
    "\n"
   ]
  },
  {
   "cell_type": "markdown",
   "id": "5797bb01-a301-4612-90e9-4f11601e1c22",
   "metadata": {},
   "source": [
    "We can try unlimited combinations of this pcp but we will not be able to find a solution, eg: <b>A - 1,2,3 = baaba B - 1,2,3 = babbbb</b"
   ]
  },
  {
   "cell_type": "markdown",
   "id": "d889d9eb-ee69-4a7a-b671-57074bc496a8",
   "metadata": {},
   "source": [
    "#### Undecidability of Post Correspondence Problem :\n",
    "As theorem says that PCP is undecidable. That is, there is no particular algorithm that determines whether any Post Correspondence System has solution or not.\n",
    "***"
   ]
  },
  {
   "cell_type": "markdown",
   "id": "08b8ba59-db4f-473f-981b-3cfcbdc0173c",
   "metadata": {},
   "source": [
    "## The Bounded Post Correspondance Problem"
   ]
  },
  {
   "cell_type": "markdown",
   "id": "f8e0d30c-5e50-43fd-9a85-691ebf2d0912",
   "metadata": {},
   "source": [
    "One of the more well known versions of Post's corespondance problem is the <b>Bounded</b> post correspondance problem. This is a variant of the PCP where the aim is to find a solution to the problem using a specified K number of tiles (Repeated tiles are permitted)."
   ]
  },
  {
   "cell_type": "markdown",
   "id": "b2be077d-bab2-4b3a-8919-63bbb30829d3",
   "metadata": {},
   "source": [
    "For example, given the foloowing table and K = 3:\n",
    "\n",
    "|  | A | B |\n",
    "| --- | --- | --- |\n",
    "| 1 | xx | xxy |\n",
    "| 2 | yy | yx |\n",
    "| 3 | xyy | y |\n",
    "\n",
    "There is no solution, \n",
    "but if K = 4, the solution is <b>1,2,1,3</b>.\n",
    "\n",
    "***"
   ]
  },
  {
   "cell_type": "markdown",
   "id": "bba5e1b8-8947-4b76-9144-05e4a27010c6",
   "metadata": {},
   "source": [
    "### A function for the Bounded PCP in python\n"
   ]
  },
  {
   "cell_type": "markdown",
   "id": "3a2285e4-4624-4bc7-8ead-6df3aa3edbf8",
   "metadata": {},
   "source": [
    "#### Variables"
   ]
  },
  {
   "cell_type": "code",
   "execution_count": 1,
   "id": "1e47f88a-b6bd-42ec-8ef0-be1e4a9a173b",
   "metadata": {},
   "outputs": [],
   "source": [
    "import itertools as it\n",
    "\n",
    "# List values.\n",
    "a = 'a'\n",
    "b = 'b'\n",
    "\n",
    "# The generators.\n",
    "gens = []\n",
    "\n",
    "# list of solutions\n",
    "solutions = []\n",
    "\n",
    "# list of correct solutions\n",
    "correct_solutions = []\n"
   ]
  },
  {
   "cell_type": "markdown",
   "id": "4d60a369-f1cd-4a8e-b4f5-2cbced723ebc",
   "metadata": {},
   "source": [
    "#### Functions"
   ]
  },
  {
   "cell_type": "code",
   "execution_count": 2,
   "id": "9ae128f0-6083-47d4-b9ad-64284f9be346",
   "metadata": {},
   "outputs": [],
   "source": [
    "# Tuple Function - S is a proposed solution\n",
    "def apply(S, L):\n",
    "    S_on_L = [''.join(L[i]) for i in S]\n",
    "    return ''.join(S_on_L)\n",
    "\n",
    "## Function to check if two objects are equal to each other.\n",
    "def correspond(a, b):\n",
    "    if a == b:\n",
    "        return True\n",
    "    else:\n",
    "        return False\n",
    "    "
   ]
  },
  {
   "cell_type": "markdown",
   "id": "90b15d16-452f-41a3-9ed2-8e230da9bb0a",
   "metadata": {},
   "source": [
    "#### Solver"
   ]
  },
  {
   "cell_type": "code",
   "execution_count": 3,
   "id": "a0f7974e-703e-43cb-aab8-fa493f2ac9d1",
   "metadata": {},
   "outputs": [],
   "source": [
    "# Write a solver for the bounded version.\n",
    "def bpcp_solver(L1, L2, K):\n",
    "    # Loop through all possible solutions.\n",
    "    for i in range(1, K + 1):\n",
    "        # Create a generator for solutions of length i, append it to gens.\n",
    "        gens.append(it.product(*([range(len(L1))] * i)))\n",
    "\n",
    "    # it.chain just chains generators together.\n",
    "    for solution in it.chain(*gens):\n",
    "        solutions.append(solution)\n",
    "    \n",
    "    for s1 in solutions:\n",
    "        a1 = apply(s1, L1)\n",
    "        for s2 in solutions:\n",
    "            a2 = apply(s2, L2)\n",
    "\n",
    "            node = a1 + ' == ' + a2\n",
    "\n",
    "            # Check to see if node is a solution.\n",
    "            if(correspond(a1, a2)):\n",
    "                print(node)\n",
    "                correct_solutions.append(node)\n",
    "                \n",
    "    length = len(correct_solutions)\n",
    "    \n",
    "    if(length == 0):\n",
    "        return False\n",
    "    else:\n",
    "        return True"
   ]
  },
  {
   "cell_type": "markdown",
   "id": "ea57eb5e-71b3-4420-a10b-58c01c4fc38e",
   "metadata": {},
   "source": [
    "#### Answer"
   ]
  },
  {
   "cell_type": "code",
   "execution_count": 4,
   "id": "f9ca8e37-7271-4bb9-9135-81814e6e1ec8",
   "metadata": {},
   "outputs": [
    {
     "name": "stdout",
     "output_type": "stream",
     "text": [
      "aa == aa\n",
      "bbaa == bbaa\n",
      "aaaa == aaaa\n",
      "aabbaa == aabbaa\n",
      "aabaa == aabaa\n",
      "aabbbaa == aabbbaa\n",
      "bbaaaa == bbaaaa\n",
      "bbaabbaa == bbaabbaa\n",
      "bbaabaa == bbaabaa\n",
      "bbaabbbaa == bbaabbbaa\n"
     ]
    },
    {
     "data": {
      "text/plain": [
       "True"
      ]
     },
     "execution_count": 4,
     "metadata": {},
     "output_type": "execute_result"
    }
   ],
   "source": [
    "# First list.\n",
    "L1 = ((a,), (a, b), (b, b, a))\n",
    "L1\n",
    "\n",
    "# Second list.\n",
    "L2 = ((b, a, a), (a, a), (b, b))\n",
    "L2\n",
    "\n",
    "# The bound for the bounded problem.\n",
    "K = 4\n",
    "\n",
    "bpcp_solver(L1, L2, K)"
   ]
  },
  {
   "cell_type": "markdown",
   "id": "c2dc1100-f060-4841-93bc-31f9dfe7e659",
   "metadata": {},
   "source": [
    "***"
   ]
  },
  {
   "cell_type": "markdown",
   "id": "b8c52ef4-169d-44b7-a798-171ad3f18ee3",
   "metadata": {},
   "source": [
    "## Undecidable Problems"
   ]
  },
  {
   "cell_type": "markdown",
   "id": "18cc0698-fb8d-491f-8b28-c51b3ba94117",
   "metadata": {},
   "source": [
    "#### What is an undecidable problem?"
   ]
  },
  {
   "cell_type": "markdown",
   "id": "ae41e550-5543-43cc-9d79-6ea6fca8a89d",
   "metadata": {},
   "source": [
    "An undecidable problem is a computational problem that requires a yes/no answer, except there is no possible way to create a programme that will always give the correct answer. Meaning that if you were to run the hypothetical programme forever there is no guarentee that it will ever give the correct answer, equally there is no guarentee that it will not give the wrong answer. The post correspondance problem is one of the most widely used known undecidable problems in computing as it is simpler than other examples such as the Halting problem."
   ]
  },
  {
   "cell_type": "markdown",
   "id": "1e6dd959-5fe7-41b0-a08f-c22985e5457f",
   "metadata": {},
   "source": [
    "#### How do you know if something is undecidable?"
   ]
  },
  {
   "cell_type": "markdown",
   "id": "a6dd3ff1-2773-4128-bad5-64274b35c864",
   "metadata": {},
   "source": [
    "A problem is considered undecidable when there is no way to construct an algorithm which will guarentee a 100% success rate of solving the problem, it should give a \"yes\" or \"no\" answer, but yet no algorithm exists that can answer correctly on all inputs."
   ]
  },
  {
   "cell_type": "markdown",
   "id": "5fd1659c-4e1e-4fa0-8e40-c23119f9328e",
   "metadata": {},
   "source": [
    "Consider the following example:\n",
    "\n",
    "If you were to code a programme that counts down from ten and completes when it reaches zero, you could write an algorithm that will always tell you when the countdown finishes: "
   ]
  },
  {
   "cell_type": "code",
   "execution_count": 5,
   "id": "179730fb-d481-4983-a103-df13c8042488",
   "metadata": {},
   "outputs": [
    {
     "name": "stdout",
     "output_type": "stream",
     "text": [
      "9\n",
      "8\n",
      "7\n",
      "6\n",
      "5\n",
      "4\n",
      "3\n",
      "2\n",
      "1\n",
      "0\n",
      "Stop!\n"
     ]
    }
   ],
   "source": [
    "num = 10\n",
    "while (num > -100):\n",
    "    num = num - 1\n",
    "    print (num)\n",
    "    if(num == 0):\n",
    "        print(\"Stop!\")\n",
    "        break\n"
   ]
  },
  {
   "cell_type": "markdown",
   "id": "fba18c21-6440-4a50-b59a-d96d203dc178",
   "metadata": {},
   "source": [
    "<br>\n",
    "But what if we count upwards?"
   ]
  },
  {
   "cell_type": "code",
   "execution_count": 6,
   "id": "7a0e582d-bf61-4825-9e03-2587a629798b",
   "metadata": {},
   "outputs": [
    {
     "name": "stdout",
     "output_type": "stream",
     "text": [
      "1\n",
      "2\n",
      "3\n",
      "4\n",
      "5\n",
      "6\n",
      "7\n",
      "8\n",
      "9\n",
      "10\n",
      "11\n",
      "12\n",
      "13\n",
      "14\n",
      "15\n",
      "16\n",
      "17\n",
      "18\n",
      "19\n",
      "20\n",
      "21\n",
      "22\n",
      "23\n",
      "24\n",
      "25\n",
      "26\n",
      "27\n",
      "28\n",
      "29\n",
      "Stop! This is an infinite loop\n"
     ]
    }
   ],
   "source": [
    "num = 1\n",
    "while (num > 0):\n",
    "    print (num)\n",
    "    num = num + 1\n",
    "    if(num >= 30):\n",
    "        print(\"Stop! This is an infinite loop\")\n",
    "        break"
   ]
  },
  {
   "cell_type": "markdown",
   "id": "79e467c9-32f2-45f7-a07e-231050508a7f",
   "metadata": {},
   "source": [
    "As you can see, It counts up <b>forever</b>, since num will never equal 0."
   ]
  },
  {
   "cell_type": "markdown",
   "id": "713fbe92-eab0-4a68-9895-3a5211e93442",
   "metadata": {},
   "source": [
    "Algorithms do exist that can correctly predict that the first program stops and the second program never does. These are simple programs which don't change based on different inputs. <br>\n",
    "However, no algorithm exists that can analyze any program's code and determine whether it halts or not."
   ]
  },
  {
   "cell_type": "markdown",
   "id": "280a87f6-5939-471e-b921-f4ad887de0a6",
   "metadata": {},
   "source": [
    "<br>\n",
    "***\n",
    "<br>"
   ]
  }
 ],
 "metadata": {
  "kernelspec": {
   "display_name": "Python 3 (ipykernel)",
   "language": "python",
   "name": "python3"
  },
  "language_info": {
   "codemirror_mode": {
    "name": "ipython",
    "version": 3
   },
   "file_extension": ".py",
   "mimetype": "text/x-python",
   "name": "python",
   "nbconvert_exporter": "python",
   "pygments_lexer": "ipython3",
   "version": "3.8.8"
  }
 },
 "nbformat": 4,
 "nbformat_minor": 5
}
