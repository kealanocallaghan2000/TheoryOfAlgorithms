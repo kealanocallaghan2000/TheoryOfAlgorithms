{
 "cells": [
  {
   "cell_type": "markdown",
   "id": "b62d396b-26d3-4de9-bca4-7d561477e3b6",
   "metadata": {},
   "source": [
    "# The Post Correspondance problem\n",
    "https://www.geeksforgeeks.org/post-correspondence-problem/\n",
    "***"
   ]
  },
  {
   "cell_type": "markdown",
   "id": "48d52c16-67d4-4d63-9c8a-c79fde53ff00",
   "metadata": {},
   "source": [
    "#### What is the Post Correspondance problem?\n",
    "The post correspondance problem (PCP) is one of the three basic undecidable decision problems that was introduced by Emil Post in 1946. Because it is simpler than the halting problem and the Entscheidungsproblem it is often used in proofs of undecidability. "
   ]
  },
  {
   "cell_type": "markdown",
   "id": "2bc03ee5-b5e0-4900-990c-97a277865590",
   "metadata": {},
   "source": [
    "#### What does it solve?\n",
    "In this problem we have N number of Dominos (tiles) with a string on the top and bottom of each tile. The aim is to find the concatenation of these words in some sequence such that both lists yield same result, which allows it to prove undecidability.\n",
    "***"
   ]
  },
  {
   "cell_type": "markdown",
   "id": "f9f5c724-6e2e-49a3-a8a2-86e5166973b6",
   "metadata": {},
   "source": [
    "##### Lets take 2 lists to understand the problem, A and B"
   ]
  },
  {
   "cell_type": "markdown",
   "id": "f549d664-e260-4241-aa47-3362ea0a69c6",
   "metadata": {},
   "source": [
    "A=[xx, yy, xyy] \n",
    "  B=[xxy, yx, y] "
   ]
  },
  {
   "cell_type": "markdown",
   "id": "59893385-1128-4935-aae2-1b5ecc17a229",
   "metadata": {},
   "source": [
    "Remember, our aim for this is to find a concatonation sequence that both lists can share so that they yield the same result - so for this example, the solution is <b>1,2,1,3</b>.\n",
    "\n",
    "The first list will yield <b>xxyyxxxyy</b> and second list will yield same string <b>xxyyxxxyy</b>.\n",
    "***"
   ]
  },
  {
   "cell_type": "markdown",
   "id": "c11395d3-4b87-4c6f-99fa-23e5f1cbf0a4",
   "metadata": {},
   "source": [
    "##### We can respresent the post corresepondance problem in these following ways:"
   ]
  },
  {
   "cell_type": "markdown",
   "id": "3ab24348-b2de-4fae-9d37-5e337f1192df",
   "metadata": {},
   "source": [
    "#### As Domino's \n",
    "\n",
    "<img src=\"https://media.geeksforgeeks.org/wp-content/uploads/20200525173708/dominos.jpg\" left=700 width=500 height=500 />"
   ]
  },
  {
   "cell_type": "markdown",
   "id": "c7aa3698-fb9d-49e8-b72f-c4ba51b0a2e8",
   "metadata": {},
   "source": [
    "#### As a table\n",
    "|  | Numerator | Denominator |\n",
    "| --- | --- | --- |\n",
    "| 1 | B | CA |\n",
    "| 2 | A | AB |\n",
    "| 3 | CA | A |\n",
    "| 4 | ABC | C |"
   ]
  }
 ],
 "metadata": {
  "kernelspec": {
   "display_name": "Python 3 (ipykernel)",
   "language": "python",
   "name": "python3"
  },
  "language_info": {
   "codemirror_mode": {
    "name": "ipython",
    "version": 3
   },
   "file_extension": ".py",
   "mimetype": "text/x-python",
   "name": "python",
   "nbconvert_exporter": "python",
   "pygments_lexer": "ipython3",
   "version": "3.8.8"
  }
 },
 "nbformat": 4,
 "nbformat_minor": 5
}
