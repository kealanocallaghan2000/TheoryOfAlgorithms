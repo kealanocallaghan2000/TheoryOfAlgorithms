{
 "cells": [
  {
   "cell_type": "markdown",
   "id": "b62d396b-26d3-4de9-bca4-7d561477e3b6",
   "metadata": {},
   "source": [
    "# The Post Correspondance problem\n",
    "https://www.geeksforgeeks.org/post-correspondence-problem/\n",
    "***"
   ]
  },
  {
   "cell_type": "markdown",
   "id": "48d52c16-67d4-4d63-9c8a-c79fde53ff00",
   "metadata": {},
   "source": [
    "#### What is the Post Correspondance problem?\n",
    "The post correspondance problem (PCP) is one of the three basic undecidable decision problems that was introduced by Emil Post in 1946. Because it is simpler than the halting problem and the Entscheidungsproblem it is often used in proofs of undecidability. "
   ]
  },
  {
   "cell_type": "markdown",
   "id": "2bc03ee5-b5e0-4900-990c-97a277865590",
   "metadata": {},
   "source": [
    "#### What does it solve?\n",
    "In this problem we have N number of Dominos (tiles) with a string on the top and bottom of each tile. The aim is to find the concatenation of these words in some sequence such that both lists yield same result, which allows it to prove undecidability.\n",
    "***"
   ]
  },
  {
   "cell_type": "markdown",
   "id": "f9f5c724-6e2e-49a3-a8a2-86e5166973b6",
   "metadata": {},
   "source": [
    "##### Lets take 2 lists to understand the problem, A and B"
   ]
  },
  {
   "cell_type": "markdown",
   "id": "f549d664-e260-4241-aa47-3362ea0a69c6",
   "metadata": {},
   "source": [
    "A=[xx, yy, xyy] \n",
    "  B=[xxy, yx, y] "
   ]
  },
  {
   "cell_type": "markdown",
   "id": "59893385-1128-4935-aae2-1b5ecc17a229",
   "metadata": {},
   "source": [
    "Remember, our aim for this is to find a concatonation sequence that both lists can share so that they yield the same result - so for this example, the solution is <b>1,2,1,3</b>.\n",
    "\n",
    "The first list will yield <b>xxyyxxxyy</b> and second list will yield same string <b>xxyyxxxyy</b>.\n",
    "***"
   ]
  },
  {
   "cell_type": "markdown",
   "id": "c11395d3-4b87-4c6f-99fa-23e5f1cbf0a4",
   "metadata": {},
   "source": [
    "##### We can respresent the post corresepondance problem in these following ways:"
   ]
  },
  {
   "cell_type": "markdown",
   "id": "3ab24348-b2de-4fae-9d37-5e337f1192df",
   "metadata": {},
   "source": [
    "#### As Domino's \n",
    "\n",
    "<img src=\"https://media.geeksforgeeks.org/wp-content/uploads/20200525173708/dominos.jpg\" left=700 width=500 height=500 />"
   ]
  },
  {
   "cell_type": "markdown",
   "id": "c7aa3698-fb9d-49e8-b72f-c4ba51b0a2e8",
   "metadata": {},
   "source": [
    "#### As a table\n",
    "|  | Numerator | Denominator |\n",
    "| --- | --- | --- |\n",
    "| 1 | B | CA |\n",
    "| 2 | A | AB |\n",
    "| 3 | CA | A |\n",
    "| 4 | ABC | C |\n",
    "\n",
    "***"
   ]
  },
  {
   "cell_type": "markdown",
   "id": "4ed2abd6-8ff2-4c57-b698-6f72dff0ee48",
   "metadata": {},
   "source": [
    "In the example above, we concluded that the solution was <b>1,2,1,3</b>. This means that it had a solution, but to fully understand the undecidability of the PCP, lets look at an example with no known solution."
   ]
  },
  {
   "cell_type": "markdown",
   "id": "d6a24c26-4573-42f4-914f-8bb69c480152",
   "metadata": {},
   "source": [
    "Take the following table:\n",
    "\n",
    "|  | A | B |\n",
    "| --- | --- | --- |\n",
    "| 1 | baa | b |\n",
    "| 2 | b | abb |\n",
    "| 3 | a | bb |\n",
    "\n",
    "\n"
   ]
  },
  {
   "cell_type": "markdown",
   "id": "5797bb01-a301-4612-90e9-4f11601e1c22",
   "metadata": {},
   "source": [
    "We can try unlimited combinations of this pcp but we will not be able to find a solution, eg: <b>A - 1,2,3 = baaba B - 1,2,3 = babbbb</b"
   ]
  },
  {
   "cell_type": "markdown",
   "id": "d889d9eb-ee69-4a7a-b671-57074bc496a8",
   "metadata": {},
   "source": [
    "#### Undecidability of Post Correspondence Problem :\n",
    "As theorem says that PCP is undecidable. That is, there is no particular algorithm that determines whether any Post Correspondence System has solution or not.\n",
    "***"
   ]
  },
  {
   "cell_type": "markdown",
   "id": "08b8ba59-db4f-473f-981b-3cfcbdc0173c",
   "metadata": {},
   "source": [
    "## The Bounded Post Correspondance Problem"
   ]
  },
  {
   "cell_type": "markdown",
   "id": "f8e0d30c-5e50-43fd-9a85-691ebf2d0912",
   "metadata": {},
   "source": [
    "One of the more well known versions of Post's corespondance problem is the <b>Bounded</b> post correspondance problem. This is a variant of the PCP where the aim is to find a solution to the problem using a specified K number of tiles (Repeated tiles are permitted)."
   ]
  },
  {
   "cell_type": "markdown",
   "id": "b2be077d-bab2-4b3a-8919-63bbb30829d3",
   "metadata": {},
   "source": [
    "For example, given the foloowing table and K = 3:\n",
    "\n",
    "|  | A | B |\n",
    "| --- | --- | --- |\n",
    "| 1 | xx | xxy |\n",
    "| 2 | yy | yx |\n",
    "| 3 | xyy | y |\n",
    "\n",
    "There is no solution, \n",
    "but if K = 4, the solution is <b>1,2,1,3</b>.\n",
    "\n",
    "***"
   ]
  },
  {
   "cell_type": "markdown",
   "id": "bba5e1b8-8947-4b76-9144-05e4a27010c6",
   "metadata": {},
   "source": [
    "### A function for the Bounded PCP in python\n"
   ]
  },
  {
   "cell_type": "code",
   "execution_count": 26,
   "id": "ef998eea-a870-4ab8-896e-1688b0420afc",
   "metadata": {},
   "outputs": [
    {
     "name": "stdout",
     "output_type": "stream",
     "text": [
      "aaa == aaa\n"
     ]
    },
    {
     "data": {
      "text/plain": [
       "True"
      ]
     },
     "execution_count": 26,
     "metadata": {},
     "output_type": "execute_result"
    }
   ],
   "source": [
    "# List 1.\n",
    "list1 = ['a', 'a', 'a']\n",
    "\n",
    "# List 2.\n",
    "list2 = ['a', 'a', 'a']\n",
    "\n",
    "# K Value\n",
    "K = 3\n",
    "    \n",
    "## Check if two objects are equal to each other.\n",
    "def correspond(a, b):\n",
    "    if a == b:\n",
    "        print(a + \" == \" + b)\n",
    "        return True\n",
    "    else:\n",
    "        print(a + \" != \" +b)\n",
    "        return False\n",
    "\n",
    "# Bounded PCP problem with a constant number: K.\n",
    "def bpcp_solver(List1, List2, K):\n",
    "    temp1 = \"\"\n",
    "    temp2 = \"\"\n",
    "    for i in range(K+1):\n",
    "        temp1 = temp1 + List1[i]\n",
    "        temp2 = temp2 + List2[i]\n",
    "\n",
    "    if correspond(temp1, temp2):\n",
    "        return True\n",
    "    else:\n",
    "        return False\n",
    "    \n",
    "# Calling the function    \n",
    "bpcp_solver(list1, list2, 2)"
   ]
  },
  {
   "cell_type": "markdown",
   "id": "c2dc1100-f060-4841-93bc-31f9dfe7e659",
   "metadata": {},
   "source": [
    "***"
   ]
  },
  {
   "cell_type": "markdown",
   "id": "b8c52ef4-169d-44b7-a798-171ad3f18ee3",
   "metadata": {},
   "source": [
    "## Undecidable Problems"
   ]
  },
  {
   "cell_type": "markdown",
   "id": "18cc0698-fb8d-491f-8b28-c51b3ba94117",
   "metadata": {},
   "source": []
  }
 ],
 "metadata": {
  "kernelspec": {
   "display_name": "Python 3 (ipykernel)",
   "language": "python",
   "name": "python3"
  },
  "language_info": {
   "codemirror_mode": {
    "name": "ipython",
    "version": 3
   },
   "file_extension": ".py",
   "mimetype": "text/x-python",
   "name": "python",
   "nbconvert_exporter": "python",
   "pygments_lexer": "ipython3",
   "version": "3.8.8"
  }
 },
 "nbformat": 4,
 "nbformat_minor": 5
}
